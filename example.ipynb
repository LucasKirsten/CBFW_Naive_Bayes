{
 "cells": [
  {
   "cell_type": "markdown",
   "metadata": {},
   "source": [
    "## Test implementation\n",
    "----"
   ]
  },
  {
   "cell_type": "markdown",
   "metadata": {},
   "source": [
    "Import necessary libraries"
   ]
  },
  {
   "cell_type": "code",
   "execution_count": null,
   "metadata": {},
   "outputs": [],
   "source": [
    "import warnings\n",
    "warnings.filterwarnings(\"ignore\")\n",
    "\n",
    "from CFW import *\n",
    "from mdlp.discretization import MDLP\n",
    "\n",
    "import pandas as pd\n",
    "import numpy as np\n",
    "from time import time\n",
    "from sklearn.preprocessing import LabelEncoder\n",
    "from sklearn.model_selection import StratifiedKFold\n",
    "from sklearn.metrics import accuracy_score, roc_auc_score"
   ]
  },
  {
   "cell_type": "markdown",
   "metadata": {},
   "source": [
    "Load a Monk dataset in order to evaluate the calculated parameters"
   ]
  },
  {
   "cell_type": "code",
   "execution_count": null,
   "metadata": {},
   "outputs": [],
   "source": [
    "# read the monk dataset\n",
    "data = pd.read_csv('./data/monks-1.train', header=None, sep=' ')\n",
    "\n",
    "# define inputs and outputs\n",
    "y = data.iloc[:,0]\n",
    "x = data.iloc[:,1:-1]\n",
    "\n",
    "# fit model\n",
    "model = CBFW()\n",
    "model.fit(x, y)\n",
    "\n",
    "# get parameters values\n",
    "print('relevance: ', np.round(model.NIAC,4))\n",
    "print('redundancy: ', np.round(model.NIAA,4))\n",
    "print('weights: ', np.round(model.W,4))"
   ]
  },
  {
   "cell_type": "markdown",
   "metadata": {},
   "source": [
    "Define a scheme for training the model using the K-Fold cross validation on a given dataset"
   ]
  },
  {
   "cell_type": "code",
   "execution_count": null,
   "metadata": {},
   "outputs": [],
   "source": [
    "def k_fold_train(dataset, K=10, n_runs=10):\n",
    "    X, y, continuos = dataset()\n",
    "    # convert all label values to integers\n",
    "    y = LabelEncoder().fit_transform(y)\n",
    "    \n",
    "    # make splits for K fold\n",
    "    skf = StratifiedKFold(n_splits=K)\n",
    "    skf.get_n_splits(X, y)\n",
    "    \n",
    "    # iterate over folds and accumulate the accuracy\n",
    "    accs, clls, aucs, times = [],[],[],[]\n",
    "    for _ in range(n_runs):\n",
    "        for train_index, test_index in skf.split(X, y):\n",
    "            X_train, X_test = X[train_index], X[test_index]\n",
    "            y_train, y_test = y[train_index], y[test_index]\n",
    "\n",
    "            # quantize x values using MDLP algorithm\n",
    "            if len(continuos)>0:\n",
    "                discretizer = MDLP()\n",
    "                discretizer.fit(X_train[:,continuos], y_train)\n",
    "                X_train[:,continuos] = discretizer.transform(X_train[:,continuos])\n",
    "                X_test[:,continuos] = discretizer.transform(X_test[:,continuos])\n",
    "            \n",
    "            # fit model\n",
    "            model = CBFW()\n",
    "            init = time()\n",
    "            model.fit(X_train, y_train)\n",
    "            times.append(time()-init)\n",
    "            \n",
    "            # predict and evaluate model\n",
    "            nb_classes = len(np.unique([*y_train, *y_test]))\n",
    "            y_test  = np.eye(nb_classes)[y_test]\n",
    "            y_pred  = np.eye(nb_classes)[model.predict(X_test)]\n",
    "            y_score = np.zeros_like(y_test)\n",
    "            y_score[:,:len(np.unique(y_train))] = model.predict(X_test, proba=True)\n",
    "            \n",
    "            accs.append(accuracy_score(y_test, y_pred))\n",
    "            try:\n",
    "                aucs.append(roc_auc_score(y_test, y_score, multi_class='ovo'))\n",
    "            except:\n",
    "                pass\n",
    "        \n",
    "    return (np.round(np.mean(accs)*100,2), np.round(np.std(accs)*100,2)),\\\n",
    "           (np.round(np.mean(aucs)*100,2), np.round(np.std(aucs)*100,2)),\\\n",
    "           (np.round(np.mean(times),4), np.round(np.std(times),4))"
   ]
  },
  {
   "cell_type": "markdown",
   "metadata": {},
   "source": [
    "Iterate over all datasets in order to evaluate them"
   ]
  },
  {
   "cell_type": "code",
   "execution_count": null,
   "metadata": {
    "tags": []
   },
   "outputs": [],
   "source": [
    "print('Dataset:\\tAccuracy:\\tAUC:\\tElapsed time:')\n",
    "for name,data in datasets.items():\n",
    "    acc,auc,eltime = k_fold_train(data)\n",
    "    print(f'{name}\\t{acc[0]}±{acc[1]}\\t{auc[0]}±{auc[1]}\\t{eltime[0]}±{eltime[1]}')"
   ]
  },
  {
   "cell_type": "code",
   "execution_count": null,
   "metadata": {},
   "outputs": [],
   "source": []
  }
 ],
 "metadata": {
  "kernelspec": {
   "display_name": "Python 3",
   "language": "python",
   "name": "python3"
  },
  "language_info": {
   "codemirror_mode": {
    "name": "ipython",
    "version": 3
   },
   "file_extension": ".py",
   "mimetype": "text/x-python",
   "name": "python",
   "nbconvert_exporter": "python",
   "pygments_lexer": "ipython3",
   "version": "3.6.9"
  }
 },
 "nbformat": 4,
 "nbformat_minor": 4
}
