{
 "cells": [
  {
   "cell_type": "markdown",
   "metadata": {},
   "source": [
    "## Test implementation\n",
    "----"
   ]
  },
  {
   "cell_type": "code",
   "execution_count": 1,
   "metadata": {},
   "outputs": [],
   "source": [
    "%load_ext autoreload\n",
    "%autoreload 2"
   ]
  },
  {
   "cell_type": "code",
   "execution_count": 2,
   "metadata": {},
   "outputs": [],
   "source": [
    "#import warnings\n",
    "#warnings.filterwarnings(\"ignore\")\n",
    "\n",
    "#import sys\n",
    "#np.set_printoptions(threshold=sys.maxsize)\n",
    "\n",
    "from CBFW import CBFW\n",
    "from mdlp.discretization import MDLP\n",
    "\n",
    "import pandas as pd\n",
    "import numpy as np\n",
    "from sklearn.preprocessing import LabelEncoder\n",
    "from sklearn.model_selection import StratifiedKFold\n",
    "from sklearn.metrics import accuracy_score\n",
    "from data_utils import datasets"
   ]
  },
  {
   "cell_type": "code",
   "execution_count": 3,
   "metadata": {},
   "outputs": [
    {
     "name": "stdout",
     "output_type": "stream",
     "text": [
      "relevance:  [1.1308 0.0916 0.0733 0.398  4.2921 0.0142]\n",
      "redundancy:  [1.6902 1.2031 0.1635 1.1302 1.4003 0.4127]\n",
      "weights:  [0.3637 0.2476 0.4775 0.3247 0.9474 0.4017]\n"
     ]
    }
   ],
   "source": [
    "# evaluate on monks\n",
    "data = pd.read_csv('./data/monks-1.train', header=None, sep=' ')\n",
    "\n",
    "y = data.iloc[:,0]\n",
    "x = data.iloc[:,1:-1]\n",
    "\n",
    "model = CBFW()\n",
    "model.fit(x, y)\n",
    "\n",
    "print('relevance: ', np.round(model.NIAC,4))\n",
    "print('redundancy: ', np.round(model.NIAA,4))\n",
    "print('weights: ', np.round(model.W,4))"
   ]
  },
  {
   "cell_type": "code",
   "execution_count": 4,
   "metadata": {},
   "outputs": [],
   "source": [
    "def k_fold_train(dataset, K=10):\n",
    "    X, y, continuos = dataset()\n",
    "    # convert all label values to integers\n",
    "    y = LabelEncoder().fit_transform(y)\n",
    "    \n",
    "    # make splits for K fold\n",
    "    skf = StratifiedKFold(n_splits=K)\n",
    "    skf.get_n_splits(X, y)\n",
    "    \n",
    "    # iterate over folds and accumulate the accuracy\n",
    "    accs = []\n",
    "    for train_index, test_index in skf.split(X, y):\n",
    "        X_train, X_test = X[train_index], X[test_index]\n",
    "        y_train, y_test = y[train_index], y[test_index]\n",
    "        \n",
    "        # quantize x values using MDLP algorithm\n",
    "        if len(continuos)>0:\n",
    "            discretizer = MDLP()\n",
    "            discretizer.fit(X_train[:,continuos], y_train)\n",
    "            X_train[:,continuos] = discretizer.transform(X_train[:,continuos])\n",
    "            X_test[:,continuos] = discretizer.transform(X_test[:,continuos])\n",
    "        \n",
    "        # fit model\n",
    "        model = CBFW()\n",
    "        model.fit(X_train, y_train)\n",
    "        \n",
    "        # predict and evaluate model\n",
    "        y_pred = model.predict(X_test)\n",
    "        accs.append(accuracy_score(y_test, y_pred))\n",
    "        \n",
    "    return np.round(np.mean(accs)*100,2), np.round(np.std(accs)*100,2)"
   ]
  },
  {
   "cell_type": "code",
   "execution_count": 5,
   "metadata": {
    "tags": []
   },
   "outputs": [
    {
     "name": "stdout",
     "output_type": "stream",
     "text": [
      "Dataset:\tMean:\tStd:\n",
      "audiology\t69.0\t10.44\n",
      "balance-scale\t69.73\t8.89\n",
      "breast-cancer\t70.5\t9.05\n",
      "breast-cancer-w\t97.28\t2.25\n",
      "colic\t72.33\t5.17\n",
      "credit-a\t85.51\t13.0\n",
      "credit-g\t74.8\t4.35\n",
      "diabetes\t65.48\t3.73\n",
      "glass\t92.58\t14.94\n",
      "heart-c\t58.42\t6.48\n",
      "heart-h\t78.9\t14.98\n",
      "heart-statlog\t82.59\t6.43\n",
      "hepatitis\t84.42\t6.13\n",
      "ionosphere\t90.87\t6.24\n",
      "iris\t94.67\t4.0\n",
      "kr-vs-kp\t87.92\t7.29\n",
      "letter\t75.64\t1.36\n",
      "lymph\t80.24\t12.47\n",
      "mushroom\t95.29\t9.16\n",
      "primary-tumor\t42.75\t7.83\n",
      "segmentation\t88.57\t5.71\n",
      "sonar\t70.64\t11.15\n",
      "waveform-5000\t82.42\t1.44\n",
      "zoo\t96.0\t4.9\n"
     ]
    }
   ],
   "source": [
    "print('Dataset:\\tMean:\\tStd:')\n",
    "for name,data in datasets.items():\n",
    "    mean,std = k_fold_train(data)\n",
    "    print(f'{name}\\t{mean}\\t{std}')"
   ]
  },
  {
   "cell_type": "code",
   "execution_count": null,
   "metadata": {},
   "outputs": [],
   "source": []
  }
 ],
 "metadata": {
  "kernelspec": {
   "display_name": "Python 3",
   "language": "python",
   "name": "python3"
  },
  "language_info": {
   "codemirror_mode": {
    "name": "ipython",
    "version": 3
   },
   "file_extension": ".py",
   "mimetype": "text/x-python",
   "name": "python",
   "nbconvert_exporter": "python",
   "pygments_lexer": "ipython3",
   "version": "3.6.9"
  }
 },
 "nbformat": 4,
 "nbformat_minor": 4
}
